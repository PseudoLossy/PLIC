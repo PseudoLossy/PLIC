{
 "cells": [
  {
   "cell_type": "code",
   "execution_count": 2,
   "metadata": {},
   "outputs": [],
   "source": [
    "from PIL import Image\n",
    "import os"
   ]
  },
  {
   "cell_type": "code",
   "execution_count": 3,
   "metadata": {},
   "outputs": [],
   "source": [
    "def combine_images_side_by_side(image_paths):\n",
    "    for i in range(0, len(image_paths), 2):\n",
    "        # Open the two consecutive images\n",
    "        img1 = Image.open(image_paths[i])\n",
    "        img2 = Image.open(image_paths[i + 1])\n",
    "\n",
    "        # Get the size of both images\n",
    "        img1_width, img1_height = img1.size\n",
    "        img2_width, img2_height = img2.size\n",
    "\n",
    "        # Create a new image with the width of both images combined and the height of the taller image\n",
    "        combined_width = img1_width + img2_width\n",
    "        combined_height = max(img1_height, img2_height)\n",
    "\n",
    "        # Create a new blank image\n",
    "        combined_img = Image.new('RGB', (combined_width, combined_height))\n",
    "\n",
    "        # Paste img1 and img2 into the new image\n",
    "        combined_img.paste(img1, (0, 0))  # img1 goes on the left\n",
    "        combined_img.paste(img2, (img1_width, 0))  # img2 goes on the right\n",
    "\n",
    "        # Save or display the combined image\n",
    "        combined_img.show()  # This will open the image\n",
    "        combined_img.save(f'combined_image_{i//2 + 1}.jpg')  # Save the combined image\n",
    "\n",
    "# Example usage with a list of image paths\n",
    "\n",
    "images_recon = [file for file in os.listdir('samples')]\n",
    "images_recon = [\"./\" + 'samples' + \"/\" + x for x in images_recon]\n",
    "\n",
    "combine_images_side_by_side(images_recon)\n"
   ]
  }
 ],
 "metadata": {
  "kernelspec": {
   "display_name": "base",
   "language": "python",
   "name": "python3"
  },
  "language_info": {
   "codemirror_mode": {
    "name": "ipython",
    "version": 3
   },
   "file_extension": ".py",
   "mimetype": "text/x-python",
   "name": "python",
   "nbconvert_exporter": "python",
   "pygments_lexer": "ipython3",
   "version": "3.11.5"
  }
 },
 "nbformat": 4,
 "nbformat_minor": 2
}
