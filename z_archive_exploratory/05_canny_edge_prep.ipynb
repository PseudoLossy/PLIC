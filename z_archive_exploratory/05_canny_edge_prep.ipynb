{
 "cells": [
  {
   "cell_type": "markdown",
   "metadata": {},
   "source": [
    "# Creating Canny Edges"
   ]
  },
  {
   "cell_type": "code",
   "execution_count": 1,
   "metadata": {},
   "outputs": [],
   "source": [
    "import os\n",
    "import cv2 as cv"
   ]
  },
  {
   "cell_type": "code",
   "execution_count": 2,
   "metadata": {},
   "outputs": [],
   "source": [
    "original_dir = 'reduced_images_dataset'\n",
    "canny_dir = 'reduced_canny_dataset'\n",
    "\n",
    "original_images = [file for file in os.listdir(original_dir)]\n",
    "original_images = [\"./\" + original_dir + \"/\" + x for x in original_images]\n",
    "original_images_names = [file[0:3] for file in os.listdir(original_dir)]"
   ]
  },
  {
   "cell_type": "code",
   "execution_count": 3,
   "metadata": {},
   "outputs": [],
   "source": [
    "for i in range(len(original_images)):\n",
    "    img = cv.imread(original_images[i], cv.IMREAD_GRAYSCALE)\n",
    "    edges = cv.Canny(img,100,200)\n",
    "    cv.imwrite(canny_dir + \"/\" + original_images_names[i] + \".png\", edges)"
   ]
  },
  {
   "cell_type": "markdown",
   "metadata": {},
   "source": [
    "# Resizing dataset to output"
   ]
  },
  {
   "cell_type": "code",
   "execution_count": 3,
   "metadata": {},
   "outputs": [],
   "source": [
    "from PIL import Image\n",
    "import os"
   ]
  },
  {
   "cell_type": "code",
   "execution_count": 4,
   "metadata": {},
   "outputs": [],
   "source": [
    "dataset_dir = 'reduced_canny_dataset'\n",
    "recon_dir = 'flux_images_recon'\n",
    "\n",
    "dataset_images = [file for file in os.listdir(dataset_dir)]\n",
    "dataset_images = [\"./\" + dataset_dir + \"/\" + x for x in dataset_images]\n",
    "\n",
    "recon_images = [file for file in os.listdir(recon_dir)]\n",
    "recon_images = [\"./\" + recon_dir + \"/\" + x for x in recon_images]"
   ]
  },
  {
   "cell_type": "code",
   "execution_count": 5,
   "metadata": {},
   "outputs": [],
   "source": [
    "for i in range(148):\n",
    "    image_to_resize = Image.open(dataset_images[i])\n",
    "    reference_image = Image.open(recon_images[i])\n",
    "\n",
    "    width, height = reference_image.size\n",
    "\n",
    "    resized_image = image_to_resize.resize((width, height))\n",
    "\n",
    "    resized_image.save(dataset_images[i])  # Save the resized image"
   ]
  }
 ],
 "metadata": {
  "kernelspec": {
   "display_name": "base",
   "language": "python",
   "name": "python3"
  },
  "language_info": {
   "codemirror_mode": {
    "name": "ipython",
    "version": 3
   },
   "file_extension": ".py",
   "mimetype": "text/x-python",
   "name": "python",
   "nbconvert_exporter": "python",
   "pygments_lexer": "ipython3",
   "version": "3.11.5"
  }
 },
 "nbformat": 4,
 "nbformat_minor": 2
}
