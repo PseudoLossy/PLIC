{
 "cells": [
  {
   "cell_type": "code",
   "execution_count": 2,
   "metadata": {},
   "outputs": [],
   "source": [
    "import os\n",
    "from PIL import Image\n",
    "\n",
    "def crop_center_square(image):\n",
    "    width, height = image.size\n",
    "    min_dim = min(width, height)\n",
    "    \n",
    "    # Calculate the coordinates for the central square\n",
    "    left = (width - min_dim) // 2\n",
    "    top = (height - min_dim) // 2\n",
    "    right = left + min_dim\n",
    "    bottom = top + min_dim\n",
    "    \n",
    "    # Crop and return the image\n",
    "    return image.crop((left, top, right, bottom))\n",
    "\n",
    "def process_images_in_folder(folder_path, output_folder):\n",
    "    if not os.path.exists(output_folder):\n",
    "        os.makedirs(output_folder)\n",
    "    \n",
    "    for filename in os.listdir(folder_path):\n",
    "        img_path = os.path.join(folder_path, filename)\n",
    "        img = Image.open(img_path)\n",
    "        cropped_img = crop_center_square(img)\n",
    "        cropped_img.save(os.path.join(output_folder, filename[0:3] + \".jpg\"))  # Save the cropped image\n",
    "\n",
    "# Example usage\n",
    "input_folder = \"images_dataset\"\n",
    "output_folder = \"dmd2_images_dataset\"\n",
    "process_images_in_folder(input_folder, output_folder)\n"
   ]
  }
 ],
 "metadata": {
  "kernelspec": {
   "display_name": "base",
   "language": "python",
   "name": "python3"
  },
  "language_info": {
   "codemirror_mode": {
    "name": "ipython",
    "version": 3
   },
   "file_extension": ".py",
   "mimetype": "text/x-python",
   "name": "python",
   "nbconvert_exporter": "python",
   "pygments_lexer": "ipython3",
   "version": "3.11.5"
  }
 },
 "nbformat": 4,
 "nbformat_minor": 2
}
