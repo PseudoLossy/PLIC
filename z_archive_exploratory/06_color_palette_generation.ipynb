{
 "cells": [
  {
   "cell_type": "code",
   "execution_count": 4,
   "metadata": {},
   "outputs": [],
   "source": [
    "import os\n",
    "from PIL import Image"
   ]
  },
  {
   "cell_type": "code",
   "execution_count": 5,
   "metadata": {},
   "outputs": [],
   "source": [
    "input_dir = 'hific_low_images_recon'\n",
    "output_dir = 'hific_low_color_recon'\n",
    "\n",
    "input_images = [file for file in os.listdir(input_dir)]\n",
    "input_images = [\"./\" + input_dir + \"/\" + x for x in input_images]\n",
    "input_images_names = [file[0:3] for file in os.listdir(input_dir)]"
   ]
  },
  {
   "cell_type": "code",
   "execution_count": 6,
   "metadata": {},
   "outputs": [],
   "source": [
    "for i in range(148):\n",
    "    image_to_resize = Image.open(input_images[i])\n",
    "\n",
    "    resized_image = image_to_resize.resize((32, 32), Image.BICUBIC)  # Resize the image\n",
    "\n",
    "    resized_image.save(\"./\" + output_dir + \"/\" + input_images_names[i] + \".png\")  # Save the resized image"
   ]
  }
 ],
 "metadata": {
  "kernelspec": {
   "display_name": "base",
   "language": "python",
   "name": "python3"
  },
  "language_info": {
   "codemirror_mode": {
    "name": "ipython",
    "version": 3
   },
   "file_extension": ".py",
   "mimetype": "text/x-python",
   "name": "python",
   "nbconvert_exporter": "python",
   "pygments_lexer": "ipython3",
   "version": "3.11.5"
  }
 },
 "nbformat": 4,
 "nbformat_minor": 2
}
